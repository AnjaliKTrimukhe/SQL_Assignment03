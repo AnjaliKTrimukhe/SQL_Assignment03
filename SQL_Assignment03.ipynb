{
 "cells": [
  {
   "cell_type": "markdown",
   "id": "93668ace",
   "metadata": {},
   "source": [
    "Q-1. Write an SQL query to print the FIRST_NAME from Worker table after removing\n",
    "white spaces from the right side.\n",
    "Ans:\n",
    "Select RTRIM(FIRST_NAME) from Worker;"
   ]
  },
  {
   "cell_type": "markdown",
   "id": "30fdbd75",
   "metadata": {},
   "source": [
    "Q-2. Write an SQL query that fetches the unique values of DEPARTMENT from Worker\n",
    "table and prints its length.\n",
    "Ans:\n",
    "Select distinct length(DEPARTMENT) from Worker;"
   ]
  },
  {
   "cell_type": "markdown",
   "id": "979333ce",
   "metadata": {},
   "source": [
    "Q-3. Write an SQL query to fetch nth max salaries from a table.\n",
    "Ans:\n",
    "Select Emp_name from table_name where Salary =( Select Salary from table_name order by Salary DESC limit n-1,1);"
   ]
  }
 ],
 "metadata": {
  "kernelspec": {
   "display_name": "Python 3 (ipykernel)",
   "language": "python",
   "name": "python3"
  },
  "language_info": {
   "codemirror_mode": {
    "name": "ipython",
    "version": 3
   },
   "file_extension": ".py",
   "mimetype": "text/x-python",
   "name": "python",
   "nbconvert_exporter": "python",
   "pygments_lexer": "ipython3",
   "version": "3.9.7"
  }
 },
 "nbformat": 4,
 "nbformat_minor": 5
}
